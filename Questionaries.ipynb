{
 "cells": [
  {
   "cell_type": "code",
   "execution_count": 7,
   "metadata": {
    "cocalc": {
     "outputs": {
      "0": {
       "name": "input",
       "opts": {
        "password": false,
        "prompt": "1+1="
       },
       "output_type": "stream",
       "value": "2"
      },
      "2": {
       "name": "input",
       "opts": {
        "password": false,
        "prompt": "2+2="
       },
       "output_type": "stream",
       "value": "2"
      },
      "4": {
       "name": "input",
       "opts": {
        "password": false,
        "prompt": "44-15="
       },
       "output_type": "stream",
       "value": "29"
      },
      "6": {
       "name": "input",
       "opts": {
        "password": false,
        "prompt": "1x2="
       },
       "output_type": "stream",
       "value": "2"
      }
     }
    },
    "collapsed": false
   },
   "outputs": [
    {
     "name": "stdout",
     "output_type": "stream",
     "text": "1+1= 2"
    },
    {
     "name": "stdout",
     "output_type": "stream",
     "text": [
      "\n",
      "\n"
     ]
    },
    {
     "name": "stdout",
     "output_type": "stream",
     "text": "2+2= 2"
    },
    {
     "name": "stdout",
     "output_type": "stream",
     "text": [
      "\n",
      "\n"
     ]
    },
    {
     "name": "stdout",
     "output_type": "stream",
     "text": "44-15= 29"
    },
    {
     "name": "stdout",
     "output_type": "stream",
     "text": [
      "\n",
      "\n"
     ]
    },
    {
     "name": "stdout",
     "output_type": "stream",
     "text": "1x2= 2"
    },
    {
     "name": "stdout",
     "output_type": "stream",
     "text": [
      "\n",
      "\n"
     ]
    }
   ],
   "source": [
    "\"\"\"\n",
    "sample `questions.txt` file:\n",
    "1+1=2\n",
    "2+2=4\n",
    "8-4=4\n",
    "task description:\n",
    "- read from `questions.txt`\n",
    "- for each question, print out the question and and wait for the user's answer\n",
    "    for example, for the first question, print out: `1+1=`\n",
    "- after the user answers all the questions, calculate her score and write it to the `result.txt` file\n",
    "    the result should be in such format: `Your final score is n/m.`\n",
    "    where n and m are the number of correct answers and the maximum score respectively\"\"\"\n",
    "# your code starts here:\n",
    "questions=[]\n",
    "my_file=open(\"questions.txt\",\"r\")\n",
    "for line in my_file:\n",
    "    for word in line.split(\"\\n \"):\n",
    "        questions.append(word.strip())\n",
    "my_file.close()\n",
    "elements=[]\n",
    "for items in questions:\n",
    "    elements.append(items.split(\"=\"))\n",
    "key_questions=dict(elements)\n",
    "key_values=[]\n",
    "for key in key_questions:\n",
    "    key_values.append(input(key+\"=\"))\n",
    "    print(\"\\n\")\n",
    "count=0\n",
    "answers=[]\n",
    "for items in key_questions.values():\n",
    "    answers.append(items)\n",
    "for items in range(len(key_values)):\n",
    "    if(answers[items]==key_values[items]):\n",
    "        count=count+1\n",
    "my_file=open(\"result.txt\",\"w\")\n",
    "my_file.write(f'Your final score is {count}/{len(key_values)}.')\n",
    "my_file.close()"
   ]
  }
 ],
 "metadata": {
  "kernelspec": {
   "display_name": "Python 3 (system-wide)",
   "language": "python",
   "metadata": {
    "cocalc": {
     "description": "Python 3 programming language",
     "priority": 100,
     "url": "https://www.python.org/"
    }
   },
   "name": "python3"
  },
  "language_info": {
   "codemirror_mode": {
    "name": "ipython",
    "version": 3
   },
   "file_extension": ".py",
   "mimetype": "text/x-python",
   "name": "python",
   "nbconvert_exporter": "python",
   "pygments_lexer": "ipython3",
   "version": "3.6.9"
  }
 },
 "nbformat": 4,
 "nbformat_minor": 4
}