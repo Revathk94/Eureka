{
 "cells": [
  {
   "cell_type": "code",
   "execution_count": 4,
   "metadata": {
    "cocalc": {
     "outputs": {
      "0": {
       "name": "input",
       "opts": {
        "password": false,
        "prompt": "\nEnter 'a' to add a movie, 'l' to see your movies, 'f' to find a movie by title, or 'q' to quit:"
       },
       "output_type": "stream",
       "value": "a"
      },
      "1": {
       "name": "input",
       "opts": {
        "password": false,
        "prompt": "Enter the movie title: "
       },
       "output_type": "stream",
       "value": "Enthiran"
      },
      "10": {
       "name": "input",
       "opts": {
        "password": false,
        "prompt": "\nEnter 'a' to add a movie, 'l' to see your movies, 'f' to find a movie by title, or 'q' to quit:"
       },
       "output_type": "stream",
       "value": "f"
      },
      "11": {
       "name": "input",
       "opts": {
        "password": false,
        "prompt": "Enter the name of the movie you want to find :"
       },
       "output_type": "stream",
       "value": "Physco"
      },
      "13": {
       "name": "input",
       "opts": {
        "password": false,
        "prompt": "\nEnter 'a' to add a movie, 'l' to see your movies, 'f' to find a movie by title, or 'q' to quit:"
       },
       "output_type": "stream",
       "value": "q"
      },
      "2": {
       "name": "input",
       "opts": {
        "password": false,
        "prompt": "Enter the movie director: "
       },
       "output_type": "stream",
       "value": "Shankar"
      },
      "3": {
       "name": "input",
       "opts": {
        "password": false,
        "prompt": "Enter the movie release year: "
       },
       "output_type": "stream",
       "value": "2010"
      },
      "4": {
       "name": "input",
       "opts": {
        "password": false,
        "prompt": "\nEnter 'a' to add a movie, 'l' to see your movies, 'f' to find a movie by title, or 'q' to quit:"
       },
       "output_type": "stream",
       "value": "a"
      },
      "5": {
       "name": "input",
       "opts": {
        "password": false,
        "prompt": "Enter the movie title: "
       },
       "output_type": "stream",
       "value": "Physco"
      },
      "6": {
       "name": "input",
       "opts": {
        "password": false,
        "prompt": "Enter the movie director: "
       },
       "output_type": "stream",
       "value": "Mishkin"
      },
      "7": {
       "name": "input",
       "opts": {
        "password": false,
        "prompt": "Enter the movie release year: "
       },
       "output_type": "stream",
       "value": "2019"
      },
      "8": {
       "name": "input",
       "opts": {
        "password": false,
        "prompt": "\nEnter 'a' to add a movie, 'l' to see your movies, 'f' to find a movie by title, or 'q' to quit:"
       },
       "output_type": "stream",
       "value": "l"
      }
     }
    },
    "collapsed": false
   },
   "outputs": [
    {
     "name": "stdout",
     "output_type": "stream",
     "text": "\nEnter 'a' to add a movie, 'l' to see your movies, 'f' to find a movie by title, or 'q' to quit: a"
    },
    {
     "name": "stdout",
     "output_type": "stream",
     "text": "Enter the movie title:  Enthiran"
    },
    {
     "name": "stdout",
     "output_type": "stream",
     "text": "Enter the movie director:  Shankar"
    },
    {
     "name": "stdout",
     "output_type": "stream",
     "text": "Enter the movie release year:  2010"
    },
    {
     "name": "stdout",
     "output_type": "stream",
     "text": "\nEnter 'a' to add a movie, 'l' to see your movies, 'f' to find a movie by title, or 'q' to quit: a"
    },
    {
     "name": "stdout",
     "output_type": "stream",
     "text": "Enter the movie title:  Physco"
    },
    {
     "name": "stdout",
     "output_type": "stream",
     "text": "Enter the movie director:  Mishkin"
    },
    {
     "name": "stdout",
     "output_type": "stream",
     "text": "Enter the movie release year:  2019"
    },
    {
     "name": "stdout",
     "output_type": "stream",
     "text": "\nEnter 'a' to add a movie, 'l' to see your movies, 'f' to find a movie by title, or 'q' to quit: l"
    },
    {
     "name": "stdout",
     "output_type": "stream",
     "text": [
      "The movie Enthiran was directed by Shankar in the year 2010\n",
      "The movie Physco was directed by Mishkin in the year 2019\n"
     ]
    },
    {
     "name": "stdout",
     "output_type": "stream",
     "text": "\nEnter 'a' to add a movie, 'l' to see your movies, 'f' to find a movie by title, or 'q' to quit: f"
    },
    {
     "name": "stdout",
     "output_type": "stream",
     "text": "Enter the name of the movie you want to find : Physco"
    },
    {
     "name": "stdout",
     "output_type": "stream",
     "text": [
      "The movie you searched for Physco which is directed by Mishkin in the year 2019\n"
     ]
    },
    {
     "name": "stdout",
     "output_type": "stream",
     "text": "\nEnter 'a' to add a movie, 'l' to see your movies, 'f' to find a movie by title, or 'q' to quit: q"
    }
   ],
   "source": [
    "movies=[]\n",
    "\n",
    "def movie_add():\n",
    "    title=input(\"Enter the movie title: \")\n",
    "    director=input(\"Enter the movie director: \")\n",
    "    year=input(\"Enter the movie release year: \")\n",
    "    movies.append({\n",
    "    'title':title,\n",
    "    'director':director,\n",
    "    'year':year\n",
    "    })\n",
    "\n",
    "\n",
    "def movie_list():\n",
    "    for movie in movies:\n",
    "        print(\"The movie \"+movie[\"title\"].title()+\" was directed by \"+movie[\"director\"].title()+\" in the year \"+movie[\"year\"])\n",
    "\n",
    "def movie_find():\n",
    "    movie_name=input(\"Enter the name of the movie you want to find :\")\n",
    "    for movie in movies:\n",
    "        #print(movie[\"title\"])\n",
    "        #print(movie_name)\n",
    "        if movie_name == movie[\"title\"]:\n",
    "            print(\"The movie you searched for \"+movie[\"title\"].title()+\" which is directed by \"+movie[\"director\"].title()+\" in the year \"+movie[\"year\"])\n",
    "            \n",
    "\n",
    "MENU_PROMPT=\"\\nEnter 'a' to add a movie, 'l' to see your movies, 'f' to find a movie by title, or 'q' to quit:\"\n",
    "selection=input(MENU_PROMPT)\n",
    "while selection!='q':\n",
    "    if selection=='a':\n",
    "        movie_add()\n",
    "    elif selection=='l':\n",
    "        movie_list()\n",
    "    elif selection=='f':\n",
    "        movie_find()\n",
    "    else:\n",
    "        print(\"Unknown command. Please try again.\")\n",
    "    selection=input(MENU_PROMPT)\n",
    "\n",
    "\n"
   ]
  },
  {
   "cell_type": "code",
   "execution_count": 0,
   "metadata": {
    "collapsed": false
   },
   "outputs": [
   ],
   "source": [
   ]
  }
 ],
 "metadata": {
  "kernelspec": {
   "display_name": "Python 3 (system-wide)",
   "language": "python",
   "metadata": {
    "cocalc": {
     "description": "Python 3 programming language",
     "priority": 100,
     "url": "https://www.python.org/"
    }
   },
   "name": "python3"
  },
  "language_info": {
   "codemirror_mode": {
    "name": "ipython",
    "version": 3
   },
   "file_extension": ".py",
   "mimetype": "text/x-python",
   "name": "python",
   "nbconvert_exporter": "python",
   "pygments_lexer": "ipython3",
   "version": "3.6.9"
  }
 },
 "nbformat": 4,
 "nbformat_minor": 4
}