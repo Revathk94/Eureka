{
 "cells": [
  {
   "cell_type": "code",
   "execution_count": 1,
   "metadata": {
    "cocalc": {
     "outputs": {
      "0": {
       "name": "input",
       "opts": {
        "password": false,
        "prompt": "\nEnter:\n- 'a' to add a new book\n- 'l' to list all books\n- 'r' to mark a book as read\n- 'd' to delete a book\n- 'q' to quit\n\nYour choice: "
       },
       "output_type": "stream",
       "value": "a"
      },
      "1": {
       "name": "input",
       "opts": {
        "password": false,
        "prompt": "\nEnter the name of the book: "
       },
       "output_type": "stream",
       "value": "Two states"
      },
      "10": {
       "name": "input",
       "opts": {
        "password": false,
        "prompt": "\nEnter:\n- 'a' to add a new book\n- 'l' to list all books\n- 'r' to mark a book as read\n- 'd' to delete a book\n- 'q' to quit\n\nYour choice: "
       },
       "output_type": "stream",
       "value": "l"
      },
      "11": {
       "name": "input",
       "opts": {
        "password": false,
        "prompt": "\nEnter:\n- 'a' to add a new book\n- 'l' to list all books\n- 'r' to mark a book as read\n- 'd' to delete a book\n- 'q' to quit\n\nYour choice:"
       },
       "output_type": "stream"
      },
      "12": {
       "name": "input",
       "opts": {
        "password": false,
        "prompt": "\nEnter:\n- 'a' to add a new book\n- 'l' to list all books\n- 'r' to mark a book as read\n- 'd' to delete a book\n- 'q' to quit\n\nYour choice: "
       },
       "output_type": "stream",
       "value": "a"
      },
      "13": {
       "name": "input",
       "opts": {
        "password": false,
        "prompt": "\nEnter the name of the book: "
       },
       "output_type": "stream",
       "value": "One Indian Women"
      },
      "14": {
       "name": "input",
       "opts": {
        "password": false,
        "prompt": "\nEnter the author of the book : "
       },
       "output_type": "stream",
       "value": "Chetan Bhagat"
      },
      "15": {
       "name": "input",
       "opts": {
        "password": false,
        "prompt": "\nEnter:\n- 'a' to add a new book\n- 'l' to list all books\n- 'r' to mark a book as read\n- 'd' to delete a book\n- 'q' to quit\n\nYour choice: "
       },
       "output_type": "stream",
       "value": "l"
      },
      "17": {
       "name": "input",
       "opts": {
        "password": false,
        "prompt": "\nEnter:\n- 'a' to add a new book\n- 'l' to list all books\n- 'r' to mark a book as read\n- 'd' to delete a book\n- 'q' to quit\n\nYour choice: "
       },
       "output_type": "stream",
       "value": "d"
      },
      "18": {
       "name": "input",
       "opts": {
        "password": false,
        "prompt": "Enter the book name needs to be deleted : "
       },
       "output_type": "stream",
       "value": "Two states"
      },
      "19": {
       "name": "input",
       "opts": {
        "password": false,
        "prompt": "\nEnter:\n- 'a' to add a new book\n- 'l' to list all books\n- 'r' to mark a book as read\n- 'd' to delete a book\n- 'q' to quit\n\nYour choice: "
       },
       "output_type": "stream",
       "value": "l"
      },
      "2": {
       "name": "input",
       "opts": {
        "password": false,
        "prompt": "\nEnter the author of the book : "
       },
       "output_type": "stream",
       "value": "Chetan Bhagat"
      },
      "21": {
       "name": "input",
       "opts": {
        "password": false,
        "prompt": "\nEnter:\n- 'a' to add a new book\n- 'l' to list all books\n- 'r' to mark a book as read\n- 'd' to delete a book\n- 'q' to quit\n\nYour choice: "
       },
       "output_type": "stream",
       "value": "re"
      },
      "23": {
       "name": "input",
       "opts": {
        "password": false,
        "prompt": "\nEnter:\n- 'a' to add a new book\n- 'l' to list all books\n- 'r' to mark a book as read\n- 'd' to delete a book\n- 'q' to quit\n\nYour choice: "
       },
       "output_type": "stream",
       "value": "q"
      },
      "3": {
       "name": "input",
       "opts": {
        "password": false,
        "prompt": "\nEnter:\n- 'a' to add a new book\n- 'l' to list all books\n- 'r' to mark a book as read\n- 'd' to delete a book\n- 'q' to quit\n\nYour choice: "
       },
       "output_type": "stream",
       "value": "a"
      },
      "4": {
       "name": "input",
       "opts": {
        "password": false,
        "prompt": "\nEnter the name of the book: "
       },
       "output_type": "stream",
       "value": "Half Girlfriend"
      },
      "5": {
       "name": "input",
       "opts": {
        "password": false,
        "prompt": "\nEnter the author of the book : "
       },
       "output_type": "stream",
       "value": "Chetan Bhagat"
      },
      "6": {
       "name": "input",
       "opts": {
        "password": false,
        "prompt": "\nEnter:\n- 'a' to add a new book\n- 'l' to list all books\n- 'r' to mark a book as read\n- 'd' to delete a book\n- 'q' to quit\n\nYour choice: "
       },
       "output_type": "stream",
       "value": "l"
      },
      "7": {
       "name": "input",
       "opts": {
        "password": false,
        "prompt": "\nEnter:\n- 'a' to add a new book\n- 'l' to list all books\n- 'r' to mark a book as read\n- 'd' to delete a book\n- 'q' to quit\n\nYour choice:"
       },
       "output_type": "stream"
      },
      "8": {
       "name": "input",
       "opts": {
        "password": false,
        "prompt": "\nEnter:\n- 'a' to add a new book\n- 'l' to list all books\n- 'r' to mark a book as read\n- 'd' to delete a book\n- 'q' to quit\n\nYour choice: "
       },
       "output_type": "stream",
       "value": "r"
      },
      "9": {
       "name": "input",
       "opts": {
        "password": false,
        "prompt": "Enter the book name read : "
       },
       "output_type": "stream",
       "value": "Half Girlfriend"
      }
     }
    },
    "collapsed": false
   },
   "outputs": [
    {
     "name": "stdout",
     "output_type": "stream",
     "text": "\nEnter:\n- 'a' to add a new book\n- 'l' to list all books\n- 'r' to mark a book as read\n- 'd' to delete a book\n- 'q' to quit\n\nYour choice:  a"
    },
    {
     "name": "stdout",
     "output_type": "stream",
     "text": "\nEnter the name of the book:  Two states"
    },
    {
     "name": "stdout",
     "output_type": "stream",
     "text": "\nEnter the author of the book :  Chetan Bhagat"
    },
    {
     "name": "stdout",
     "output_type": "stream",
     "text": "\nEnter:\n- 'a' to add a new book\n- 'l' to list all books\n- 'r' to mark a book as read\n- 'd' to delete a book\n- 'q' to quit\n\nYour choice:  a"
    },
    {
     "name": "stdout",
     "output_type": "stream",
     "text": "\nEnter the name of the book:  Half Girlfriend"
    },
    {
     "name": "stdout",
     "output_type": "stream",
     "text": "\nEnter the author of the book :  Chetan Bhagat"
    },
    {
     "name": "stdout",
     "output_type": "stream",
     "text": "\nEnter:\n- 'a' to add a new book\n- 'l' to list all books\n- 'r' to mark a book as read\n- 'd' to delete a book\n- 'q' to quit\n\nYour choice:  l"
    },
    {
     "name": "stdout",
     "output_type": "stream",
     "text": [
      "\n",
      "The book \"Two states\" was written by Chetan Bhagat and the status of read is False.\n",
      "\n",
      "The book \"Half Girlfriend\" was written by Chetan Bhagat and the status of read is False.\n"
     ]
    },
    {
     "name": "stdout",
     "output_type": "stream",
     "text": "\nEnter:\n- 'a' to add a new book\n- 'l' to list all books\n- 'r' to mark a book as read\n- 'd' to delete a book\n- 'q' to quit\n\nYour choice:  r"
    },
    {
     "name": "stdout",
     "output_type": "stream",
     "text": "Enter the book name read :  Half Girlfriend"
    },
    {
     "name": "stdout",
     "output_type": "stream",
     "text": "\nEnter:\n- 'a' to add a new book\n- 'l' to list all books\n- 'r' to mark a book as read\n- 'd' to delete a book\n- 'q' to quit\n\nYour choice:  l"
    },
    {
     "name": "stdout",
     "output_type": "stream",
     "text": [
      "\n",
      "The book \"Two states\" was written by Chetan Bhagat and the status of read is False.\n",
      "\n",
      "The book \"Half Girlfriend\" was written by Chetan Bhagat and the status of read is True.\n"
     ]
    },
    {
     "name": "stdout",
     "output_type": "stream",
     "text": "\nEnter:\n- 'a' to add a new book\n- 'l' to list all books\n- 'r' to mark a book as read\n- 'd' to delete a book\n- 'q' to quit\n\nYour choice:  a"
    },
    {
     "name": "stdout",
     "output_type": "stream",
     "text": "\nEnter the name of the book:  One Indian Women"
    },
    {
     "name": "stdout",
     "output_type": "stream",
     "text": "\nEnter the author of the book :  Chetan Bhagat"
    },
    {
     "name": "stdout",
     "output_type": "stream",
     "text": "\nEnter:\n- 'a' to add a new book\n- 'l' to list all books\n- 'r' to mark a book as read\n- 'd' to delete a book\n- 'q' to quit\n\nYour choice:  l"
    },
    {
     "name": "stdout",
     "output_type": "stream",
     "text": [
      "\n",
      "The book \"Two states\" was written by Chetan Bhagat and the status of read is False.\n",
      "\n",
      "The book \"Half Girlfriend\" was written by Chetan Bhagat and the status of read is True.\n",
      "\n",
      "The book \"One Indian Women\" was written by Chetan Bhagat and the status of read is False.\n"
     ]
    },
    {
     "name": "stdout",
     "output_type": "stream",
     "text": "\nEnter:\n- 'a' to add a new book\n- 'l' to list all books\n- 'r' to mark a book as read\n- 'd' to delete a book\n- 'q' to quit\n\nYour choice:  d"
    },
    {
     "name": "stdout",
     "output_type": "stream",
     "text": "Enter the book name needs to be deleted :  Two states"
    },
    {
     "name": "stdout",
     "output_type": "stream",
     "text": "\nEnter:\n- 'a' to add a new book\n- 'l' to list all books\n- 'r' to mark a book as read\n- 'd' to delete a book\n- 'q' to quit\n\nYour choice:  l"
    },
    {
     "name": "stdout",
     "output_type": "stream",
     "text": [
      "\n",
      "The book \"Half Girlfriend\" was written by Chetan Bhagat and the status of read is True.\n",
      "\n",
      "The book \"One Indian Women\" was written by Chetan Bhagat and the status of read is False.\n"
     ]
    },
    {
     "name": "stdout",
     "output_type": "stream",
     "text": "\nEnter:\n- 'a' to add a new book\n- 'l' to list all books\n- 'r' to mark a book as read\n- 'd' to delete a book\n- 'q' to quit\n\nYour choice:  re"
    },
    {
     "name": "stdout",
     "output_type": "stream",
     "text": [
      "\n",
      "Please enter the valid Choices.\n"
     ]
    },
    {
     "name": "stdout",
     "output_type": "stream",
     "text": "\nEnter:\n- 'a' to add a new book\n- 'l' to list all books\n- 'r' to mark a book as read\n- 'd' to delete a book\n- 'q' to quit\n\nYour choice:  q"
    }
   ],
   "source": [
    "from Utils import database1\n",
    "\n",
    "USER_CHOICE = \"\"\"\n",
    "Enter:\n",
    "- 'a' to add a new book\n",
    "- 'l' to list all books\n",
    "- 'r' to mark a book as read\n",
    "- 'd' to delete a book\n",
    "- 'q' to quit\n",
    "\n",
    "Your choice: \"\"\"\n",
    "\n",
    "def menu():\n",
    "    user_input=input(USER_CHOICE)\n",
    "    while user_input != 'q':\n",
    "        if user_input == 'a':\n",
    "            prompt_add_book()\n",
    "        elif user_input == 'l':\n",
    "            list_books()\n",
    "        elif user_input == 'r':\n",
    "            prompt_read_book()\n",
    "        elif user_input == 'd':\n",
    "            prompt_delete_book()\n",
    "        else:\n",
    "            print(\"\\nPlease enter the valid Choices.\")\n",
    "        user_input=input(USER_CHOICE)\n",
    "\n",
    "\n",
    "def prompt_add_book():\n",
    "    database1.add_book(input(\"\\nEnter the name of the book: \"),input(\"\\nEnter the author of the book : \"))\n",
    "\n",
    "\n",
    "def list_books():\n",
    "    books=database1.get_all_books()\n",
    "    for items in books:\n",
    "        print(f'\\nThe book \"{items[\"name\"]}\" was written by {items[\"author\"]} and the status of read is {items[\"read\"]}.')\n",
    "\n",
    "def prompt_read_book():\n",
    "    book_name = input(\"Enter the book name read : \")\n",
    "    database1.mark_the_book_as_read(book_name)\n",
    "\n",
    "\n",
    "def prompt_delete_book():\n",
    "    book_name = input(\"Enter the book name needs to be deleted : \")\n",
    "    database1.delete_book(book_name)\n",
    "\n",
    "\n",
    "menu()"
   ]
  }
 ],
 "metadata": {
  "kernelspec": {
   "display_name": "Python 3 (system-wide)",
   "language": "python",
   "metadata": {
    "cocalc": {
     "description": "Python 3 programming language",
     "priority": 100,
     "url": "https://www.python.org/"
    }
   },
   "name": "python3"
  },
  "language_info": {
   "codemirror_mode": {
    "name": "ipython",
    "version": 3
   },
   "file_extension": ".py",
   "mimetype": "text/x-python",
   "name": "python",
   "nbconvert_exporter": "python",
   "pygments_lexer": "ipython3",
   "version": "3.6.9"
  }
 },
 "nbformat": 4,
 "nbformat_minor": 4
}