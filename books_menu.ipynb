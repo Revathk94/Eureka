{
 "cells": [
  {
   "cell_type": "code",
   "execution_count": 1,
   "metadata": {
    "cocalc": {
     "outputs": {
      "0": {
       "name": "input",
       "opts": {
        "password": false,
        "prompt": "\nEnter:\n- 'a' to add a new book\n- 'l' to list all books\n- 'r' to mark a book as read\n- 'd' to delete a book\n- 'q' to quit\n\nYour choice: "
       },
       "output_type": "stream",
       "value": "a"
      },
      "1": {
       "name": "input",
       "opts": {
        "password": false,
        "prompt": "Enter the name of the book: "
       },
       "output_type": "stream",
       "value": "Two States"
      },
      "10": {
       "name": "input",
       "opts": {
        "password": false,
        "prompt": "\nEnter:\n- 'a' to add a new book\n- 'l' to list all books\n- 'r' to mark a book as read\n- 'd' to delete a book\n- 'q' to quit\n\nYour choice:"
       },
       "output_type": "stream",
       "value": "l"
      },
      "11": {
       "name": "input",
       "opts": {
        "password": false,
        "prompt": "\nEnter:\n- 'a' to add a new book\n- 'l' to list all books\n- 'r' to mark a book as read\n- 'd' to delete a book\n- 'q' to quit\n\nYour choice: "
       },
       "output_type": "stream",
       "value": "r"
      },
      "12": {
       "name": "input",
       "opts": {
        "password": false,
        "prompt": "Enter the book name read : "
       },
       "output_type": "stream",
       "value": "Half girlfriend"
      },
      "13": {
       "name": "input",
       "opts": {
        "password": false,
        "prompt": "\nEnter:\n- 'a' to add a new book\n- 'l' to list all books\n- 'r' to mark a book as read\n- 'd' to delete a book\n- 'q' to quit\n\nYour choice: "
       },
       "output_type": "stream",
       "value": "l"
      },
      "14": {
       "name": "input",
       "opts": {
        "password": false,
        "prompt": "\nEnter 'a' to add a movie, 'l' to see your movies, 'f' to find a movie by title, or 'q' to quit:"
       },
       "output_type": "stream"
      },
      "15": {
       "name": "input",
       "opts": {
        "password": false,
        "prompt": "\nEnter:\n- 'a' to add a new book\n- 'l' to list all books\n- 'r' to mark a book as read\n- 'd' to delete a book\n- 'q' to quit\n\nYour choice: "
       },
       "output_type": "stream",
       "value": "d"
      },
      "16": {
       "name": "input",
       "opts": {
        "password": false,
        "prompt": "Enter the book name needs to be deleted : "
       },
       "output_type": "stream",
       "value": "Two States"
      },
      "17": {
       "name": "input",
       "opts": {
        "password": false,
        "prompt": "\nEnter:\n- 'a' to add a new book\n- 'l' to list all books\n- 'r' to mark a book as read\n- 'd' to delete a book\n- 'q' to quit\n\nYour choice: "
       },
       "output_type": "stream",
       "value": "l"
      },
      "19": {
       "name": "input",
       "opts": {
        "password": false,
        "prompt": "\nEnter:\n- 'a' to add a new book\n- 'l' to list all books\n- 'r' to mark a book as read\n- 'd' to delete a book\n- 'q' to quit\n\nYour choice: "
       },
       "output_type": "stream"
      },
      "2": {
       "name": "input",
       "opts": {
        "password": false,
        "prompt": "Enter the author of the book : "
       },
       "output_type": "stream",
       "value": "Chetan Bhagat"
      },
      "3": {
       "name": "input",
       "opts": {
        "password": false,
        "prompt": "\nEnter:\n- 'a' to add a new book\n- 'l' to list all books\n- 'r' to mark a book as read\n- 'd' to delete a book\n- 'q' to quit\n\nYour choice: "
       },
       "output_type": "stream",
       "value": "a"
      },
      "4": {
       "name": "input",
       "opts": {
        "password": false,
        "prompt": "Enter the name of the book: "
       },
       "output_type": "stream",
       "value": "Half girlfriend"
      },
      "5": {
       "name": "input",
       "opts": {
        "password": false,
        "prompt": "Enter the author of the book : "
       },
       "output_type": "stream",
       "value": "Chetan Bhagat"
      },
      "6": {
       "name": "input",
       "opts": {
        "password": false,
        "prompt": "\nEnter:\n- 'a' to add a new book\n- 'l' to list all books\n- 'r' to mark a book as read\n- 'd' to delete a book\n- 'q' to quit\n\nYour choice: "
       },
       "output_type": "stream",
       "value": "a"
      },
      "7": {
       "name": "input",
       "opts": {
        "password": false,
        "prompt": "Enter the name of the book: "
       },
       "output_type": "stream",
       "value": "One night at the call center"
      },
      "8": {
       "name": "input",
       "opts": {
        "password": false,
        "prompt": "Enter the author of the book : "
       },
       "output_type": "stream",
       "value": "Chetan Bhagat"
      },
      "9": {
       "name": "input",
       "opts": {
        "password": false,
        "prompt": "\nEnter:\n- 'a' to add a new book\n- 'l' to list all books\n- 'r' to mark a book as read\n- 'd' to delete a book\n- 'q' to quit\n\nYour choice: "
       },
       "output_type": "stream",
       "value": "l"
      }
     }
    },
    "collapsed": false
   },
   "outputs": [
    {
     "name": "stdout",
     "output_type": "stream",
     "text": "\nEnter:\n- 'a' to add a new book\n- 'l' to list all books\n- 'r' to mark a book as read\n- 'd' to delete a book\n- 'q' to quit\n\nYour choice:  a"
    },
    {
     "name": "stdout",
     "output_type": "stream",
     "text": "Enter the name of the book:  Two States"
    },
    {
     "name": "stdout",
     "output_type": "stream",
     "text": "Enter the author of the book :  Chetan Bhagat"
    },
    {
     "name": "stdout",
     "output_type": "stream",
     "text": "\nEnter:\n- 'a' to add a new book\n- 'l' to list all books\n- 'r' to mark a book as read\n- 'd' to delete a book\n- 'q' to quit\n\nYour choice:  a"
    },
    {
     "name": "stdout",
     "output_type": "stream",
     "text": "Enter the name of the book:  Half girlfriend"
    },
    {
     "name": "stdout",
     "output_type": "stream",
     "text": "Enter the author of the book :  Chetan Bhagat"
    },
    {
     "name": "stdout",
     "output_type": "stream",
     "text": "\nEnter:\n- 'a' to add a new book\n- 'l' to list all books\n- 'r' to mark a book as read\n- 'd' to delete a book\n- 'q' to quit\n\nYour choice:  a"
    },
    {
     "name": "stdout",
     "output_type": "stream",
     "text": "Enter the name of the book:  One night at the call center"
    },
    {
     "name": "stdout",
     "output_type": "stream",
     "text": "Enter the author of the book :  Chetan Bhagat"
    },
    {
     "name": "stdout",
     "output_type": "stream",
     "text": "\nEnter:\n- 'a' to add a new book\n- 'l' to list all books\n- 'r' to mark a book as read\n- 'd' to delete a book\n- 'q' to quit\n\nYour choice:  l"
    },
    {
     "name": "stdout",
     "output_type": "stream",
     "text": [
      "\n",
      "The book \"Two States\" was written by Chetan Bhagat and the status of read is False.\n",
      "\n",
      "The book \"Half girlfriend\" was written by Chetan Bhagat and the status of read is False.\n",
      "\n",
      "The book \"One night at the call center\" was written by Chetan Bhagat and the status of read is False.\n"
     ]
    },
    {
     "name": "stdout",
     "output_type": "stream",
     "text": "\nEnter:\n- 'a' to add a new book\n- 'l' to list all books\n- 'r' to mark a book as read\n- 'd' to delete a book\n- 'q' to quit\n\nYour choice:  r"
    },
    {
     "name": "stdout",
     "output_type": "stream",
     "text": "Enter the book name read :  Half girlfriend"
    },
    {
     "name": "stdout",
     "output_type": "stream",
     "text": "\nEnter:\n- 'a' to add a new book\n- 'l' to list all books\n- 'r' to mark a book as read\n- 'd' to delete a book\n- 'q' to quit\n\nYour choice:  l"
    },
    {
     "name": "stdout",
     "output_type": "stream",
     "text": [
      "\n",
      "The book \"Two States\" was written by Chetan Bhagat and the status of read is False.\n",
      "\n",
      "The book \"Half girlfriend\" was written by Chetan Bhagat and the status of read is True.\n",
      "\n",
      "The book \"One night at the call center\" was written by Chetan Bhagat and the status of read is False.\n"
     ]
    },
    {
     "name": "stdout",
     "output_type": "stream",
     "text": "\nEnter:\n- 'a' to add a new book\n- 'l' to list all books\n- 'r' to mark a book as read\n- 'd' to delete a book\n- 'q' to quit\n\nYour choice:  d"
    },
    {
     "name": "stdout",
     "output_type": "stream",
     "text": "Enter the book name needs to be deleted :  Two States"
    },
    {
     "name": "stdout",
     "output_type": "stream",
     "text": "\nEnter:\n- 'a' to add a new book\n- 'l' to list all books\n- 'r' to mark a book as read\n- 'd' to delete a book\n- 'q' to quit\n\nYour choice:  l"
    },
    {
     "name": "stdout",
     "output_type": "stream",
     "text": [
      "\n",
      "The book \"Half girlfriend\" was written by Chetan Bhagat and the status of read is True.\n",
      "\n",
      "The book \"One night at the call center\" was written by Chetan Bhagat and the status of read is False.\n"
     ]
    },
    {
     "name": "stdout",
     "output_type": "stream",
     "text": "\nEnter:\n- 'a' to add a new book\n- 'l' to list all books\n- 'r' to mark a book as read\n- 'd' to delete a book\n- 'q' to quit\n\nYour choice:  "
    }
   ],
   "source": [
    "from Utils.database import add_book,list_books,prompt_read_book,prompt_delete_book\n",
    "\n",
    "USER_CHOICE = \"\"\"\n",
    "Enter:\n",
    "- 'a' to add a new book\n",
    "- 'l' to list all books\n",
    "- 'r' to mark a book as read\n",
    "- 'd' to delete a book\n",
    "- 'q' to quit\n",
    "\n",
    "Your choice: \"\"\"\n",
    "\n",
    "def menu():\n",
    "    user_input=input(USER_CHOICE)\n",
    "    while user_input != 'q':\n",
    "        if user_input == 'a':\n",
    "            add_book(input(\"Enter the name of the book: \"),input(\"Enter the author of the book : \"))\n",
    "        elif user_input == 'l':\n",
    "            list_books()\n",
    "        elif user_input == 'r':\n",
    "            prompt_read_book()\n",
    "        elif user_input == 'd':\n",
    "            prompt_delete_book()\n",
    "        else:\n",
    "            print(\"Please enter the valid Choices.\")\n",
    "        user_input=input(USER_CHOICE)\n",
    "menu()"
   ]
  }
 ],
 "metadata": {
  "kernelspec": {
   "display_name": "Python 3 (Anaconda 2019)",
   "env": {
    "AR": "/ext/anaconda-2019.03/bin/x86_64-conda_cos6-linux-gnu-ar",
    "AS": "/ext/anaconda-2019.03/bin/x86_64-conda_cos6-linux-gnu-as",
    "CC": "/ext/anaconda-2019.03/bin/x86_64-conda_cos6-linux-gnu-cc",
    "CONDA_EXE": "/ext/anaconda-2019.03/bin/conda",
    "CONDA_PREFIX": "/ext/anaconda-2019.03",
    "CONDA_PYTHON_EXE": "/ext/anaconda-2019.03/bin/python",
    "CPP": "/ext/anaconda-2019.03/bin/x86_64-conda_cos6-linux-gnu-cpp",
    "CXX": "/ext/anaconda-2019.03/bin/x86_64-conda_cos6-linux-gnu-c++",
    "CXXFILT": "/ext/anaconda-2019.03/bin/x86_64-conda_cos6-linux-gnu-c++filt",
    "ELFEDIT": "/ext/anaconda-2019.03/bin/x86_64-conda_cos6-linux-gnu-elfedit",
    "F77": "/ext/anaconda-2019.03/bin/x86_64-conda_cos6-linux-gnu-gfortran",
    "F90": "/ext/anaconda-2019.03/bin/x86_64-conda_cos6-linux-gnu-gfortran",
    "F95": "/ext/anaconda-2019.03/bin/x86_64-conda_cos6-linux-gnu-f95",
    "FC": "/ext/anaconda-2019.03/bin/x86_64-conda_cos6-linux-gnu-gfortran",
    "GCC": "/ext/anaconda-2019.03/bin/x86_64-conda_cos6-linux-gnu-gcc",
    "GCC_AR": "/ext/anaconda-2019.03/bin/x86_64-conda_cos6-linux-gnu-gcc-ar",
    "GCC_NM": "/ext/anaconda-2019.03/bin/x86_64-conda_cos6-linux-gnu-gcc-nm",
    "GCC_RANLIB": "/ext/anaconda-2019.03/bin/x86_64-conda_cos6-linux-gnu-gcc-ranlib",
    "GDAL_DATA": "/ext/anaconda-2019.03/share/gdal",
    "GFORTRAN": "/ext/anaconda-2019.03/bin/x86_64-conda_cos6-linux-gnu-gfortran",
    "GPROF": "/ext/anaconda-2019.03/bin/x86_64-conda_cos6-linux-gnu-gprof",
    "GXX": "/ext/anaconda-2019.03/bin/x86_64-conda_cos6-linux-gnu-g++",
    "JAVA_HOME": "/ext/anaconda-2019.03",
    "JAVA_LD_LIBRARY_PATH": "/ext/anaconda-2019.03/lib/server",
    "LD": "/ext/anaconda-2019.03/bin/x86_64-conda_cos6-linux-gnu-ld",
    "LD_GOLD": "/ext/anaconda-2019.03/bin/x86_64-conda_cos6-linux-gnu-ld.gold",
    "LD_LIBRARY_PATH": "/ext/anaconda-2019.03/lib",
    "NM": "/ext/anaconda-2019.03/bin/x86_64-conda_cos6-linux-gnu-nm",
    "OBJCOPY": "/ext/anaconda-2019.03/bin/x86_64-conda_cos6-linux-gnu-objcopy",
    "OBJDUMP": "/ext/anaconda-2019.03/bin/x86_64-conda_cos6-linux-gnu-objdump",
    "OCAMLFIND_CONF": "/ext/anaconda-2019.03/etc/findlib.conf",
    "OCAMLLIB": "/ext/anaconda-2019.03/lib/ocaml",
    "OCAML_PREFIX": "/ext/anaconda-2019.03",
    "PATH": "/ext/anaconda-2019.03/bin:/ext/anaconda-2019.03/condabin:/cocalc/bin:/cocalc/src/smc-project/bin:/home/user/bin:/home/user/.local/bin:/ext/bin:/usr/lib/xpra:/opt/ghc/bin:/usr/local/bin:/usr/bin:/bin:/ext/data/homer/bin:/ext/data/weblogo:/ext/intellij/idea/bin:/ext/pycharm/pycharm/bin:/usr/lib/postgresql/10/bin",
    "PROJ_LIB": "/ext/anaconda-2019.03/share/proj",
    "PYTHONHOME": "/ext/anaconda-2019.03/lib/python3.7",
    "PYTHONPATH": "/ext/anaconda-2019.03/lib/python3.7:/ext/anaconda-2019.03/lib/python3.7/site-packages",
    "RANLIB": "/ext/anaconda-2019.03/bin/x86_64-conda_cos6-linux-gnu-ranlib",
    "READELF": "/ext/anaconda-2019.03/bin/x86_64-conda_cos6-linux-gnu-readelf",
    "RSTUDIO_WHICH_R": "/ext/anaconda-2019.03/bin/R",
    "SIZE": "/ext/anaconda-2019.03/bin/x86_64-conda_cos6-linux-gnu-size",
    "STRINGS": "/ext/anaconda-2019.03/bin/x86_64-conda_cos6-linux-gnu-strings",
    "STRIP": "/ext/anaconda-2019.03/bin/x86_64-conda_cos6-linux-gnu-strip"
   },
   "language": "python",
   "metadata": {
    "cocalc": {
     "description": "Python/R distribution for data science",
     "priority": 5,
     "url": "https://www.anaconda.com/distribution/"
    }
   },
   "name": "anaconda2019"
  },
  "language_info": {
   "codemirror_mode": {
    "name": "ipython",
    "version": 3
   },
   "file_extension": ".py",
   "mimetype": "text/x-python",
   "name": "python",
   "nbconvert_exporter": "python",
   "pygments_lexer": "ipython3",
   "version": "3.7.7"
  }
 },
 "nbformat": 4,
 "nbformat_minor": 4
}