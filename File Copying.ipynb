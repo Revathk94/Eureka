{
 "cells": [
  {
   "cell_type": "code",
   "execution_count": 3,
   "metadata": {
    "cocalc": {
     "outputs": {
      "0": {
       "name": "input",
       "opts": {
        "password": false,
        "prompt": "\nEnter 'a' to add a movie, 'l' to see your movies, 'f' to find a movie by title, or 'q' to quit:"
       },
       "output_type": "stream",
       "value": "a"
      },
      "1": {
       "name": "input",
       "opts": {
        "password": false,
        "prompt": "1"
       },
       "output_type": "stream",
       "value": "Revathi"
      },
      "10": {
       "name": "input",
       "opts": {
        "password": false,
        "prompt": "\nEnter 'a' to add a movie, 'l' to see your movies, 'f' to find a movie by title, or 'q' to quit:"
       },
       "output_type": "stream",
       "value": "f"
      },
      "11": {
       "name": "input",
       "opts": {
        "password": false,
        "prompt": "Enter the name of the movie you want to find :"
       },
       "output_type": "stream",
       "value": "Physco"
      },
      "12": {
       "name": "input",
       "opts": {
        "password": false,
        "prompt": "\nEnter 'a' to add a movie, 'l' to see your movies, 'f' to find a movie by title, or 'q' to quit:"
       },
       "output_type": "stream"
      },
      "13": {
       "name": "input",
       "opts": {
        "password": false,
        "prompt": "\nEnter 'a' to add a movie, 'l' to see your movies, 'f' to find a movie by title, or 'q' to quit:"
       },
       "output_type": "stream",
       "value": "q"
      },
      "2": {
       "name": "input",
       "opts": {
        "password": false,
        "prompt": "2"
       },
       "output_type": "stream",
       "value": "Sathees"
      },
      "3": {
       "name": "input",
       "opts": {
        "password": false,
        "prompt": "3"
       },
       "output_type": "stream",
       "value": "Sasi"
      },
      "4": {
       "name": "input",
       "opts": {
        "password": false,
        "prompt": "\nEnter 'a' to add a movie, 'l' to see your movies, 'f' to find a movie by title, or 'q' to quit:"
       },
       "output_type": "stream",
       "value": "a"
      },
      "5": {
       "name": "input",
       "opts": {
        "password": false,
        "prompt": "Enter the movie title: "
       },
       "output_type": "stream",
       "value": "Physco"
      },
      "6": {
       "name": "input",
       "opts": {
        "password": false,
        "prompt": "Enter the movie director: "
       },
       "output_type": "stream",
       "value": "Mishkin"
      },
      "7": {
       "name": "input",
       "opts": {
        "password": false,
        "prompt": "Enter the movie release year: "
       },
       "output_type": "stream",
       "value": "2019"
      },
      "8": {
       "name": "input",
       "opts": {
        "password": false,
        "prompt": "\nEnter 'a' to add a movie, 'l' to see your movies, 'f' to find a movie by title, or 'q' to quit:"
       },
       "output_type": "stream",
       "value": "l"
      }
     }
    },
    "collapsed": false
   },
   "outputs": [
    {
     "name": "stdout",
     "output_type": "stream",
     "text": [
      "Enter your three friends name\n"
     ]
    },
    {
     "name": "stdout",
     "output_type": "stream",
     "text": "1 Revathi"
    },
    {
     "name": "stdout",
     "output_type": "stream",
     "text": "2 Sathees"
    },
    {
     "name": "stdout",
     "output_type": "stream",
     "text": "3 Sasi"
    }
   ],
   "source": [
    "friends=[]\n",
    "print(\"Enter your three friends name\")\n",
    "for item in range(3):\n",
    "    friends.append(input(item+1))\n",
    "set_friends=set(friends)\n",
    "list_file_content=[]\n",
    "my_file=open(\"people.txt\",\"r\")\n",
    "for line in my_file:\n",
    "    for word in line.split(\"\\n\"):\n",
    "        list_file_content.append(word)\n",
    "my_file.close()\n",
    "set_file_content=set(list_file_content)\n",
    "nearby_friends=set_file_content.intersection(set_friends)\n",
    "my_file=open(\"Nearby_friends.txt\",\"w\")\n",
    "for item in nearby_friends:\n",
    "    my_file.write(item)\n",
    "    my_file.write(\"\\n\")\n",
    "my_file.close()\n"
   ]
  }
 ],
 "metadata": {
  "kernelspec": {
   "display_name": "Python 3 (system-wide)",
   "language": "python",
   "metadata": {
    "cocalc": {
     "description": "Python 3 programming language",
     "priority": 100,
     "url": "https://www.python.org/"
    }
   },
   "name": "python3"
  },
  "language_info": {
   "codemirror_mode": {
    "name": "ipython",
    "version": 3
   },
   "file_extension": ".py",
   "mimetype": "text/x-python",
   "name": "python",
   "nbconvert_exporter": "python",
   "pygments_lexer": "ipython3",
   "version": "3.6.9"
  }
 },
 "nbformat": 4,
 "nbformat_minor": 4
}